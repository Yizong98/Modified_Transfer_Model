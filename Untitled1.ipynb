{
 "cells": [
  {
   "cell_type": "code",
   "execution_count": 25,
   "metadata": {},
   "outputs": [
    {
     "ename": "IndentationError",
     "evalue": "unexpected indent (<ipython-input-25-6dd9ec6e790e>, line 12)",
     "output_type": "error",
     "traceback": [
      "\u001b[1;36m  File \u001b[1;32m\"<ipython-input-25-6dd9ec6e790e>\"\u001b[1;36m, line \u001b[1;32m12\u001b[0m\n\u001b[1;33m    >>> Link(None)\u001b[0m\n\u001b[1;37m    ^\u001b[0m\n\u001b[1;31mIndentationError\u001b[0m\u001b[1;31m:\u001b[0m unexpected indent\n"
     ]
    }
   ],
   "source": [
    "class Link(object):\n",
    "    empty = ()\n",
    "\n",
    "    def __init__(self, first, rest=empty):\n",
    "        assert rest is Link.empty or isinstance(rest, Link)\n",
    "\n",
    "        self.first = first\n",
    "        self.rest = rest\n",
    "    \n",
    "    def __repr__(self):\n",
    "        \"\"\"\n",
    "        >>> Link(None)\n",
    "        Link(None)\n",
    "\n",
    "        >>> Link(1, Link(2, Link(3)))\n",
    "        Link(1, Link(2, Link(3)))\n",
    "\n",
    "        >>> Link(Link(1, Link(2)), Link(3, Link(4)))\n",
    "        Link(Link(1, Link(2)), Link(3, Link(4)))\n",
    "\n",
    "        >>> Link(Link(Link(Link('Wow'))))\n",
    "        Link(Link(Link(Link('Wow'))))\n",
    "        \"\"\"\n",
    "        \"\"\"YOUR CODE GOES HERE\"\"\"\n",
    "        if self == None:\n",
    "            return 'Link(None)'\n",
    "        if self.rest is Link.empty:\n",
    "            if type(self.first) is str:\n",
    "                return \"Link('%s')\"%self.first\n",
    "            else:\n",
    "                #if type(self.first) is Link:\n",
    "                    #return \"Link(Link(%s))\"%self.first\n",
    "                \n",
    "                #else:\n",
    "                return \"Link(%s)\"%self.first.first\n",
    "        else:\n",
    "            return 'Link(%s, %s)'%(repr(self.first), repr(self.rest))\n",
    "    def __str__(self):\n",
    "        \"\"\"\n",
    "        >>> str(Link('Hello'))\n",
    "        'Hello'\n",
    "\n",
    "        >>> str(Link(1, Link(2)))\n",
    "        '1 -> 2'\n",
    "\n",
    "        >>> print(Link(1 / 2, Link(1 // 2)))\n",
    "        0.5 -> 0\n",
    "\n",
    "        >>> str(Link(Link(1, Link(2, Link(3))), Link(4, Link(5))))\n",
    "        '(1 -> 2 -> 3) -> 4 -> 5'\n",
    "\n",
    "        >>> print(Link(Link(Link(Link('Wow')))))\n",
    "        (((Wow)))\n",
    "\n",
    "        >>> print(Link(Link('a'), Link(Link('b'), Link(Link('c')))))\n",
    "        (a) -> (b) -> (c)\n",
    "        \"\"\"\n",
    "        \"\"\"YOUR CODE GOES HERE\"\"\"\n",
    "\n",
    "        store = ''\n",
    "        if type(self.first) is not Link:\n",
    "            while self.rest is not Link.empty:\n",
    "                store += str(self.first) + ' -> '\n",
    "                self = self.rest\n",
    "            return \"%s\" % (store + str(self.first))\n",
    "        else:\n",
    "            if self.rest is not Link.empty:\n",
    "                return '(%s)' % (str(self.first)) + ' -> ' + str(self.rest)\n",
    "            else:\n",
    "                return '(%s)' % (str(self.first))"
   ]
  },
  {
   "cell_type": "code",
   "execution_count": 20,
   "metadata": {},
   "outputs": [],
   "source": [
    "pussy = Link(Link(Link(Link('Wow'))))"
   ]
  },
  {
   "cell_type": "code",
   "execution_count": 21,
   "metadata": {},
   "outputs": [
    {
     "data": {
      "text/plain": [
       "Link((Wow))"
      ]
     },
     "execution_count": 21,
     "metadata": {},
     "output_type": "execute_result"
    }
   ],
   "source": [
    "pussy.first"
   ]
  },
  {
   "cell_type": "code",
   "execution_count": 23,
   "metadata": {},
   "outputs": [
    {
     "data": {
      "text/plain": [
       "Link(Link('1', Link('2')), Link('3', Link('4')))"
      ]
     },
     "execution_count": 23,
     "metadata": {},
     "output_type": "execute_result"
    }
   ],
   "source": [
    ">>> Link(Link('1', Link('2')), Link('3', Link('4')))"
   ]
  },
  {
   "cell_type": "code",
   "execution_count": 14,
   "metadata": {},
   "outputs": [
    {
     "data": {
      "text/plain": [
       "Link(Link(1, Link(2)), Link(3, Link(4)))"
      ]
     },
     "execution_count": 14,
     "metadata": {},
     "output_type": "execute_result"
    }
   ],
   "source": [
    "Link(Link(1, Link(2)), Link(3, Link(4)))"
   ]
  },
  {
   "cell_type": "code",
   "execution_count": 6,
   "metadata": {},
   "outputs": [
    {
     "data": {
      "text/plain": [
       "'(1 -> 2) -> 3 -> 4'"
      ]
     },
     "execution_count": 6,
     "metadata": {},
     "output_type": "execute_result"
    }
   ],
   "source": [
    "str(Link(Link(1, Link(2)), Link(3, Link(4))))"
   ]
  },
  {
   "cell_type": "code",
   "execution_count": 24,
   "metadata": {},
   "outputs": [
    {
     "data": {
      "text/plain": [
       "Link((Wow))"
      ]
     },
     "execution_count": 24,
     "metadata": {},
     "output_type": "execute_result"
    }
   ],
   "source": [
    "Link(Link(Link(Link('Wow'))))"
   ]
  }
 ],
 "metadata": {
  "kernelspec": {
   "display_name": "Python 3",
   "language": "python",
   "name": "python3"
  },
  "language_info": {
   "codemirror_mode": {
    "name": "ipython",
    "version": 3
   },
   "file_extension": ".py",
   "mimetype": "text/x-python",
   "name": "python",
   "nbconvert_exporter": "python",
   "pygments_lexer": "ipython3",
   "version": "3.6.2"
  }
 },
 "nbformat": 4,
 "nbformat_minor": 2
}
